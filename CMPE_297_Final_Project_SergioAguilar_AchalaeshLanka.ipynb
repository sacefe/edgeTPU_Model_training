{
  "nbformat": 4,
  "nbformat_minor": 0,
  "metadata": {
    "colab": {
      "name": "CMPE 297_Final_Project_SergioAguilar_AchalaeshLanka.ipynb",
      "provenance": [],
      "collapsed_sections": [
        "AtYKxmW4kS-D",
        "wdMRM8YModbk",
        "g0ylJXE_kRLi",
        "Hd94CKImf8vi",
        "CPXnzUK0QonF",
        "4Uk1dgsxT0IS",
        "4G5O4jd6TuAG",
        "xqIjZvhBBJNn",
        "RMLYBDe_e849"
      ],
      "toc_visible": true,
      "include_colab_link": true
    },
    "kernelspec": {
      "name": "python3",
      "display_name": "Python 3"
    }
  },
  "cells": [
    {
      "cell_type": "markdown",
      "metadata": {
        "id": "view-in-github",
        "colab_type": "text"
      },
      "source": [
        "<a href=\"https://colab.research.google.com/github/sacefe/edgeTPU_Model_training/blob/main/CMPE_297_Final_Project_SergioAguilar_AchalaeshLanka.ipynb\" target=\"_parent\"><img src=\"https://colab.research.google.com/assets/colab-badge.svg\" alt=\"Open In Colab\"/></a>"
      ]
    },
    {
      "cell_type": "markdown",
      "metadata": {
        "id": "Gz5nJhj1papw"
      },
      "source": [
        "# Final Project - CMPE 297\n",
        "#### **Authors**: \n",
        "* Sergio Aguilar \n",
        "* Achalaesh Lanka\n",
        "\n",
        "#### **Project**:  \n",
        "* Product defect detection \n",
        "* Perform Deep learning based object detection \n",
        "\n",
        "#### **Application focus**\n",
        "* MVTec Anomaly Detection Dataset with our own PASCAL annotations\n",
        "* Create TFRecords\n",
        "* Transfer learning of a Tensorflow Models \n",
        "* Convert the Model to tflite \n",
        "* Convert the Model to EdgeTPU\n",
        "* Utilize the on-board accelerator.\n",
        "* add Gstreamer\n"
      ]
    },
    {
      "cell_type": "markdown",
      "metadata": {
        "id": "_Goiv86Sq4UC"
      },
      "source": [
        "## Retrain a classification model for Edge TPU using post-training quantization (with TF2)"
      ]
    },
    {
      "cell_type": "markdown",
      "metadata": {
        "id": "GTCYQg_be8C0"
      },
      "source": [
        "### Import the required libraries"
      ]
    },
    {
      "cell_type": "markdown",
      "metadata": {
        "id": "02MxhCyFmpzn"
      },
      "source": [
        "In order to quantize both the input and output tensors, we need `TFLiteConverter` APIs that are available in TensorFlow r2.3 or higher:"
      ]
    },
    {
      "cell_type": "code",
      "metadata": {
        "id": "iBMcobPHdD8O"
      },
      "source": [
        "import tensorflow as tf\n",
        "assert float(tf.__version__[:3]) >= 2.3\n",
        "\n",
        "import os\n",
        "import numpy as np\n",
        "import matplotlib.pyplot as plt"
      ],
      "execution_count": null,
      "outputs": []
    },
    {
      "cell_type": "markdown",
      "metadata": {
        "id": "v77rlkCKW0IJ"
      },
      "source": [
        "### Prepare the training data"
      ]
    },
    {
      "cell_type": "markdown",
      "metadata": {
        "id": "j4QOy2uA3P_p"
      },
      "source": [
        "First let's download and organize the flowers dataset we'll use to retrain the model (it contains 5 flower classes).\n",
        "\n",
        "Pay attention to this part so you can reproduce it with your own images dataset. In particular, notice that the \"flower_photos\" directory contains an appropriately-named directory for each class. The following code randomizes and divides up the photos into training and validation sets, and generates a labels file based on the photo folder names."
      ]
    },
    {
      "cell_type": "code",
      "metadata": {
        "id": "xxL2mjVVGIrV"
      },
      "source": [
        "!git clone https://github.com/sacefe/edgeTPU_Model_training.git\n",
        "!mkdir  /content/screws_dir\n",
        "!tar -xvf  /content/edgeTPU_Model_training/screws_jpg.tar.xz  -C /content/screws_dir\n",
        "\n",
        "screws_dir =  '/content/screws_dir'\n",
        "\n",
        "# _URL = \"https://storage.googleapis.com/download.tensorflow.org/example_images/flower_photos.tgz\"\n",
        "\n",
        "# zip_file = tf.keras.utils.get_file(origin=_URL, \n",
        "#                                    fname=\"flower_photos.tgz\", \n",
        "#                                    extract=True)\n",
        "\n",
        "# flowers_dir = os.path.join(os.path.dirname(zip_file), 'flower_photos')\n",
        "# print(flowers_dir)"
      ],
      "execution_count": null,
      "outputs": []
    },
    {
      "cell_type": "code",
      "metadata": {
        "id": "O9TFca-Z5Yo5"
      },
      "source": [
        "screws_dir =  '/content/screws_dir'"
      ],
      "execution_count": null,
      "outputs": []
    },
    {
      "cell_type": "markdown",
      "metadata": {
        "id": "z4gTv7ig2vMh"
      },
      "source": [
        "Next, we use [`ImageDataGenerator`](https://www.tensorflow.org/api_docs/python/tf/keras/preprocessing/image/ImageDataGenerator) to rescale the image data into float values (divide by 255 so the tensor values are between 0 and 1), and call `flow_from_directory()` to create two generators: one for the training dataset and one for the validation dataset.\n"
      ]
    },
    {
      "cell_type": "code",
      "metadata": {
        "id": "aCLb_yV5JfF3",
        "colab": {
          "base_uri": "https://localhost:8080/"
        },
        "outputId": "30d5c1cf-47bd-45b6-b2c9-a5eb1ac9c2c1"
      },
      "source": [
        "IMAGE_SIZE = 224\n",
        "BATCH_SIZE = 64\n",
        "\n",
        "datagen = tf.keras.preprocessing.image.ImageDataGenerator(\n",
        "    rescale=1./255, \n",
        "    validation_split=0.2)\n",
        "\n",
        "train_generator = datagen.flow_from_directory(\n",
        "    screws_dir,\n",
        "    target_size=(IMAGE_SIZE, IMAGE_SIZE),\n",
        "    batch_size=BATCH_SIZE, \n",
        "    subset='training')\n",
        "\n",
        "val_generator = datagen.flow_from_directory(\n",
        "    screws_dir,\n",
        "    target_size=(IMAGE_SIZE, IMAGE_SIZE),\n",
        "    batch_size=BATCH_SIZE, \n",
        "    subset='validation')"
      ],
      "execution_count": null,
      "outputs": [
        {
          "output_type": "stream",
          "text": [
            "Found 354 images belonging to 6 classes.\n",
            "Found 85 images belonging to 6 classes.\n"
          ],
          "name": "stdout"
        }
      ]
    },
    {
      "cell_type": "markdown",
      "metadata": {
        "id": "VePDZC5Bh2mO"
      },
      "source": [
        "\n",
        "On each iteration, these generators provide a batch of images by reading images from disk and processing them to the proper tensor size (224 x 224). The output is a tuple of (images, labels). For example, you can see the shapes here:"
      ]
    },
    {
      "cell_type": "code",
      "metadata": {
        "id": "tx1L7fxxWA_G",
        "colab": {
          "base_uri": "https://localhost:8080/"
        },
        "outputId": "83b24213-d8f8-46f4-d0da-f10ce09e79a1"
      },
      "source": [
        "image_batch, label_batch = next(val_generator)\n",
        "image_batch.shape, label_batch.shape"
      ],
      "execution_count": null,
      "outputs": [
        {
          "output_type": "execute_result",
          "data": {
            "text/plain": [
              "((64, 224, 224, 3), (64, 6))"
            ]
          },
          "metadata": {
            "tags": []
          },
          "execution_count": 8
        }
      ]
    },
    {
      "cell_type": "markdown",
      "metadata": {
        "id": "ZrFFcwUb3iK9"
      },
      "source": [
        "Now save the class labels to a text file:"
      ]
    },
    {
      "cell_type": "code",
      "metadata": {
        "id": "-QFZIhWs4dsq",
        "colab": {
          "base_uri": "https://localhost:8080/"
        },
        "outputId": "1354249b-6ef3-49d5-bef4-a92201ca93c2"
      },
      "source": [
        "print (train_generator.class_indices)\n",
        "\n",
        "labels = '\\n'.join(sorted(train_generator.class_indices.keys()))\n",
        "\n",
        "with open('screw_labels.txt', 'w') as f:\n",
        "  f.write(labels)"
      ],
      "execution_count": null,
      "outputs": [
        {
          "output_type": "stream",
          "text": [
            "{'good': 0, 'manipulated_front': 1, 'scratch_head': 2, 'scratch_neck': 3, 'thread_side': 4, 'thread_top': 5}\n"
          ],
          "name": "stdout"
        }
      ]
    },
    {
      "cell_type": "code",
      "metadata": {
        "id": "duxD_UDSOmng",
        "colab": {
          "base_uri": "https://localhost:8080/"
        },
        "outputId": "9022e532-1016-4461-8b49-8c074d017ec0"
      },
      "source": [
        "!cat screw_labels.txt"
      ],
      "execution_count": null,
      "outputs": [
        {
          "output_type": "stream",
          "text": [
            "good\n",
            "manipulated_front\n",
            "scratch_head\n",
            "scratch_neck\n",
            "thread_side\n",
            "thread_top"
          ],
          "name": "stdout"
        }
      ]
    },
    {
      "cell_type": "markdown",
      "metadata": {
        "id": "OkH-kazQecHB"
      },
      "source": [
        "## Build the model\n",
        "\n",
        "Now we'll create a model that's capable of transfer learning on just the last fully-connected layer. \n",
        "\n",
        "We'll start with MobileNet V2 from Keras as the base model, which is pre-trained with the ImageNet dataset (trained to recognize 1,000 classes). This provides us a great feature extractor for image classification and we can then train a new classification layer with our flowers dataset.\n",
        "\n"
      ]
    },
    {
      "cell_type": "markdown",
      "metadata": {
        "id": "AtYKxmW4kS-D"
      },
      "source": [
        "### Create the base model \n",
        "\n",
        "When instantiating the `MobileNetV2` model, we specify the `include_top=False` argument in order to load the network *without* the classification layers at the top. Then we set `trainable` false to freeze all the weights in the base model. This effectively converts the model into a feature extractor because all the pre-trained weights and biases are preserved in the lower layers when we begin training for our classification head."
      ]
    },
    {
      "cell_type": "code",
      "metadata": {
        "id": "19IQ2gqneqmS",
        "colab": {
          "base_uri": "https://localhost:8080/"
        },
        "outputId": "1767b531-cb0e-4513-de98-31bd091e6d15"
      },
      "source": [
        "IMG_SHAPE = (IMAGE_SIZE, IMAGE_SIZE, 3)\n",
        "\n",
        "# Create the base model from the pre-trained MobileNet V2\n",
        "base_model = tf.keras.applications.MobileNetV2(input_shape=IMG_SHAPE,\n",
        "                                              include_top=False, \n",
        "                                              weights='imagenet')\n",
        "base_model.trainable = False"
      ],
      "execution_count": null,
      "outputs": [
        {
          "output_type": "stream",
          "text": [
            "Downloading data from https://storage.googleapis.com/tensorflow/keras-applications/mobilenet_v2/mobilenet_v2_weights_tf_dim_ordering_tf_kernels_1.0_224_no_top.h5\n",
            "9412608/9406464 [==============================] - 0s 0us/step\n"
          ],
          "name": "stdout"
        }
      ]
    },
    {
      "cell_type": "markdown",
      "metadata": {
        "id": "wdMRM8YModbk"
      },
      "source": [
        "### Add a classification head\n",
        "\n",
        "Now we create a new [`Sequential`](https://www.tensorflow.org/api_docs/python/tf/keras/Sequential) model and pass the frozen MobileNet model as the base of the graph, and append new classification layers so we can set the final output dimension to match the number of classes in our dataset (5 types of flowers)."
      ]
    },
    {
      "cell_type": "code",
      "metadata": {
        "id": "eApvroIyn1K0"
      },
      "source": [
        "model = tf.keras.Sequential([\n",
        "  base_model,\n",
        "  tf.keras.layers.Conv2D(filters=32, kernel_size=3, activation='relu'),\n",
        "  tf.keras.layers.Dropout(0.2),\n",
        "  tf.keras.layers.GlobalAveragePooling2D(),\n",
        "  tf.keras.layers.Dense(units=6, activation='softmax')\n",
        "])"
      ],
      "execution_count": null,
      "outputs": []
    },
    {
      "cell_type": "markdown",
      "metadata": {
        "id": "g0ylJXE_kRLi"
      },
      "source": [
        "### Configure the model\n",
        "\n",
        "Although this method is called `compile()`, it's basically a configuration step that's required before we can start training."
      ]
    },
    {
      "cell_type": "code",
      "metadata": {
        "id": "RpR8HdyMhukJ"
      },
      "source": [
        "model.compile(optimizer='adam', \n",
        "              loss='categorical_crossentropy', \n",
        "              metrics=['accuracy'])"
      ],
      "execution_count": null,
      "outputs": []
    },
    {
      "cell_type": "markdown",
      "metadata": {
        "id": "YI-FWMqYlm1X"
      },
      "source": [
        "You can see a string summary of the final network with the `summary()` method:"
      ]
    },
    {
      "cell_type": "code",
      "metadata": {
        "id": "I8ARiyMFsgbH",
        "colab": {
          "base_uri": "https://localhost:8080/"
        },
        "outputId": "14dcd34d-0b7a-477b-cd18-99ff3f36f8df"
      },
      "source": [
        "model.summary()"
      ],
      "execution_count": null,
      "outputs": [
        {
          "output_type": "stream",
          "text": [
            "Model: \"sequential_1\"\n",
            "_________________________________________________________________\n",
            "Layer (type)                 Output Shape              Param #   \n",
            "=================================================================\n",
            "mobilenetv2_1.00_224 (Functi (None, 7, 7, 1280)        2257984   \n",
            "_________________________________________________________________\n",
            "conv2d_1 (Conv2D)            (None, 5, 5, 32)          368672    \n",
            "_________________________________________________________________\n",
            "dropout_1 (Dropout)          (None, 5, 5, 32)          0         \n",
            "_________________________________________________________________\n",
            "global_average_pooling2d_1 ( (None, 32)                0         \n",
            "_________________________________________________________________\n",
            "dense_1 (Dense)              (None, 6)                 198       \n",
            "=================================================================\n",
            "Total params: 2,626,854\n",
            "Trainable params: 368,870\n",
            "Non-trainable params: 2,257,984\n",
            "_________________________________________________________________\n"
          ],
          "name": "stdout"
        }
      ]
    },
    {
      "cell_type": "markdown",
      "metadata": {
        "id": "OjgKQrUem04S"
      },
      "source": [
        "And because the majority of the model graph is frozen in the base model, weights from only the last convolution and dense layers are trainable:"
      ]
    },
    {
      "cell_type": "code",
      "metadata": {
        "id": "krvBumovycVA",
        "colab": {
          "base_uri": "https://localhost:8080/"
        },
        "outputId": "1dbe551e-9cbe-4456-98e5-f5b2d959033e"
      },
      "source": [
        "print('Number of trainable weights = {}'.format(len(model.trainable_weights)))"
      ],
      "execution_count": null,
      "outputs": [
        {
          "output_type": "stream",
          "text": [
            "Number of trainable weights = 4\n"
          ],
          "name": "stdout"
        }
      ]
    },
    {
      "cell_type": "markdown",
      "metadata": {
        "id": "RxvgOYTDSWTx"
      },
      "source": [
        "## Train the model\n",
        "\n",
        "<!-- TODO(markdaoust): delete steps_per_epoch in TensorFlow r1.14/r2.0 -->"
      ]
    },
    {
      "cell_type": "markdown",
      "metadata": {
        "id": "kBRNaOCCoA-P"
      },
      "source": [
        "Now we can train the model using data provided by the `train_generator` and `val_generator` that we created at the beginning. \n",
        "\n",
        "This should take less than 10 minutes."
      ]
    },
    {
      "cell_type": "code",
      "metadata": {
        "id": "JsaRFlZ9B6WK",
        "colab": {
          "base_uri": "https://localhost:8080/"
        },
        "outputId": "0b79377e-f15e-4c83-feb0-7a20746faa24"
      },
      "source": [
        "history = model.fit(train_generator,\n",
        "                    steps_per_epoch=len(train_generator), \n",
        "                    epochs=10,\n",
        "                    validation_data=val_generator,\n",
        "                    validation_steps=len(val_generator))"
      ],
      "execution_count": null,
      "outputs": [
        {
          "output_type": "stream",
          "text": [
            "Epoch 1/10\n",
            "6/6 [==============================] - 18s 3s/step - loss: 2.3739 - accuracy: 0.5565 - val_loss: 1.7116 - val_accuracy: 0.7529\n",
            "Epoch 2/10\n",
            "6/6 [==============================] - 16s 3s/step - loss: 1.3142 - accuracy: 0.7203 - val_loss: 1.2633 - val_accuracy: 0.6941\n",
            "Epoch 3/10\n",
            "6/6 [==============================] - 16s 3s/step - loss: 1.1490 - accuracy: 0.6893 - val_loss: 1.0649 - val_accuracy: 0.7529\n",
            "Epoch 4/10\n",
            "6/6 [==============================] - 20s 3s/step - loss: 0.9584 - accuracy: 0.7260 - val_loss: 0.9932 - val_accuracy: 0.7529\n",
            "Epoch 5/10\n",
            "6/6 [==============================] - 16s 3s/step - loss: 0.9027 - accuracy: 0.7260 - val_loss: 0.9503 - val_accuracy: 0.7529\n",
            "Epoch 6/10\n",
            "6/6 [==============================] - 17s 3s/step - loss: 0.8168 - accuracy: 0.7288 - val_loss: 0.9414 - val_accuracy: 0.7529\n",
            "Epoch 7/10\n",
            "6/6 [==============================] - 16s 3s/step - loss: 0.7889 - accuracy: 0.7571 - val_loss: 0.9253 - val_accuracy: 0.7529\n",
            "Epoch 8/10\n",
            "6/6 [==============================] - 16s 3s/step - loss: 0.7377 - accuracy: 0.7316 - val_loss: 0.9032 - val_accuracy: 0.7529\n",
            "Epoch 9/10\n",
            "6/6 [==============================] - 16s 3s/step - loss: 0.7013 - accuracy: 0.7514 - val_loss: 0.8821 - val_accuracy: 0.7529\n",
            "Epoch 10/10\n",
            "6/6 [==============================] - 18s 3s/step - loss: 0.6405 - accuracy: 0.7627 - val_loss: 0.8828 - val_accuracy: 0.7529\n"
          ],
          "name": "stdout"
        }
      ]
    },
    {
      "cell_type": "markdown",
      "metadata": {
        "id": "Hd94CKImf8vi"
      },
      "source": [
        "### Review the learning curves\n"
      ]
    },
    {
      "cell_type": "code",
      "metadata": {
        "id": "53OTCh3jnbwV",
        "colab": {
          "base_uri": "https://localhost:8080/",
          "height": 513
        },
        "outputId": "e5b34fdc-6246-495f-abd1-e368b63196b3"
      },
      "source": [
        "acc = history.history['accuracy']\n",
        "val_acc = history.history['val_accuracy']\n",
        "\n",
        "loss = history.history['loss']\n",
        "val_loss = history.history['val_loss']\n",
        "\n",
        "plt.figure(figsize=(8, 8))\n",
        "plt.subplot(2, 1, 1)\n",
        "plt.plot(acc, label='Training Accuracy')\n",
        "plt.plot(val_acc, label='Validation Accuracy')\n",
        "plt.legend(loc='lower right')\n",
        "plt.ylabel('Accuracy')\n",
        "plt.ylim([min(plt.ylim()),1])\n",
        "plt.title('Training and Validation Accuracy')\n",
        "\n",
        "plt.subplot(2, 1, 2)\n",
        "plt.plot(loss, label='Training Loss')\n",
        "plt.plot(val_loss, label='Validation Loss')\n",
        "plt.legend(loc='upper right')\n",
        "plt.ylabel('Cross Entropy')\n",
        "plt.ylim([0,1.0])\n",
        "plt.title('Training and Validation Loss')\n",
        "plt.xlabel('epoch')\n",
        "plt.show()"
      ],
      "execution_count": null,
      "outputs": [
        {
          "output_type": "display_data",
          "data": {
            "image/png": "[encoded data removed]",
            "text/plain": [
              "<Figure size 576x576 with 2 Axes>"
            ]
          },
          "metadata": {
            "tags": [],
            "needs_background": "light"
          }
        }
      ]
    },
    {
      "cell_type": "markdown",
      "metadata": {
        "id": "CqwV-CRdS6Nv"
      },
      "source": [
        "## Fine tune the base model\n"
      ]
    },
    {
      "cell_type": "markdown",
      "metadata": {
        "id": "dBTEEnxv9X6J"
      },
      "source": [
        "So far, we've only trained the classification layers—the weights of the pre-trained network were *not* changed.\n",
        "\n",
        "One way we can increase the accuracy is to train (or \"fine-tune\") more layers from the pre-trained model. That is, we'll un-freeze some layers from the base model and adjust those weights (which were originally trained with 1,000 ImageNet classes) so they're better tuned for features found in our flowers dataset."
      ]
    },
    {
      "cell_type": "markdown",
      "metadata": {
        "id": "CPXnzUK0QonF"
      },
      "source": [
        "### Un-freeze more layers\n"
      ]
    },
    {
      "cell_type": "markdown",
      "metadata": {
        "id": "rfxv_ifotQak"
      },
      "source": [
        "So instead of freezing the entire base model, we'll freeze individual layers.\n",
        "\n",
        "First, let's see how many layers are in the base model:"
      ]
    },
    {
      "cell_type": "code",
      "metadata": {
        "id": "4nzcagVitLQm",
        "colab": {
          "base_uri": "https://localhost:8080/"
        },
        "outputId": "572eec94-7b5b-468d-f8b1-196ed2fe056a"
      },
      "source": [
        "print(\"Number of layers in the base model: \", len(base_model.layers))"
      ],
      "execution_count": null,
      "outputs": [
        {
          "output_type": "stream",
          "text": [
            "Number of layers in the base model:  155\n"
          ],
          "name": "stdout"
        }
      ]
    },
    {
      "cell_type": "markdown",
      "metadata": {
        "id": "dGcXdaQqASlC"
      },
      "source": [
        "Let's try freezing just the bottom 100 layers."
      ]
    },
    {
      "cell_type": "code",
      "metadata": {
        "id": "-4HgVAacRs5v"
      },
      "source": [
        "base_model.trainable = True\n",
        "fine_tune_at = 100\n",
        "\n",
        "# Freeze all the layers before the `fine_tune_at` layer\n",
        "for layer in base_model.layers[:fine_tune_at]:\n",
        "  layer.trainable =  False"
      ],
      "execution_count": null,
      "outputs": []
    },
    {
      "cell_type": "markdown",
      "metadata": {
        "id": "4Uk1dgsxT0IS"
      },
      "source": [
        "### Reconfigure the model\n",
        "\n",
        "Now configure the model again, but this time with a lower learning rate (the default is 0.001)."
      ]
    },
    {
      "cell_type": "code",
      "metadata": {
        "id": "NtUnaz0WUDva"
      },
      "source": [
        "model.compile(optimizer=tf.keras.optimizers.Adam(1e-5),\n",
        "              loss='categorical_crossentropy',\n",
        "              metrics=['accuracy'])"
      ],
      "execution_count": null,
      "outputs": []
    },
    {
      "cell_type": "code",
      "metadata": {
        "id": "WwBWy7J2kZvA",
        "colab": {
          "base_uri": "https://localhost:8080/"
        },
        "outputId": "f88a9bb3-d22d-491a-9b1f-c8da461bdd44"
      },
      "source": [
        "model.summary()"
      ],
      "execution_count": null,
      "outputs": [
        {
          "output_type": "stream",
          "text": [
            "Model: \"sequential_1\"\n",
            "_________________________________________________________________\n",
            "Layer (type)                 Output Shape              Param #   \n",
            "=================================================================\n",
            "mobilenetv2_1.00_224 (Functi (None, 7, 7, 1280)        2257984   \n",
            "_________________________________________________________________\n",
            "conv2d_1 (Conv2D)            (None, 5, 5, 32)          368672    \n",
            "_________________________________________________________________\n",
            "dropout_1 (Dropout)          (None, 5, 5, 32)          0         \n",
            "_________________________________________________________________\n",
            "global_average_pooling2d_1 ( (None, 32)                0         \n",
            "_________________________________________________________________\n",
            "dense_1 (Dense)              (None, 6)                 198       \n",
            "=================================================================\n",
            "Total params: 2,626,854\n",
            "Trainable params: 2,231,462\n",
            "Non-trainable params: 395,392\n",
            "_________________________________________________________________\n"
          ],
          "name": "stdout"
        }
      ]
    },
    {
      "cell_type": "code",
      "metadata": {
        "id": "bNXelbMQtonr",
        "colab": {
          "base_uri": "https://localhost:8080/"
        },
        "outputId": "346bbbb3-0c12-4175-d36e-4f8761355d0e"
      },
      "source": [
        "print('Number of trainable weights = {}'.format(len(model.trainable_weights)))"
      ],
      "execution_count": null,
      "outputs": [
        {
          "output_type": "stream",
          "text": [
            "Number of trainable weights = 60\n"
          ],
          "name": "stdout"
        }
      ]
    },
    {
      "cell_type": "markdown",
      "metadata": {
        "id": "4G5O4jd6TuAG"
      },
      "source": [
        "### Continue training"
      ]
    },
    {
      "cell_type": "markdown",
      "metadata": {
        "id": "bppmJTmDpXtK"
      },
      "source": [
        "Now let's fine-tune all trainable layers. This starts with the weights we already trained in the classification layers, so we don't need as many epochs."
      ]
    },
    {
      "cell_type": "code",
      "metadata": {
        "id": "PiXbLb1O8IDy",
        "colab": {
          "base_uri": "https://localhost:8080/"
        },
        "outputId": "e0b0b4b7-5e6a-4f5c-b253-b4c8b31a40ed"
      },
      "source": [
        "history_fine = model.fit(train_generator,\n",
        "                         steps_per_epoch=len(train_generator), \n",
        "                         epochs=5,\n",
        "                         validation_data=val_generator,\n",
        "                         validation_steps=len(val_generator))"
      ],
      "execution_count": null,
      "outputs": [
        {
          "output_type": "stream",
          "text": [
            "Epoch 1/5\n",
            "6/6 [==============================] - 28s 5s/step - loss: 3.3434 - accuracy: 0.2203 - val_loss: 0.8637 - val_accuracy: 0.7529\n",
            "Epoch 2/5\n",
            "6/6 [==============================] - 26s 4s/step - loss: 2.3060 - accuracy: 0.3305 - val_loss: 0.8827 - val_accuracy: 0.7529\n",
            "Epoch 3/5\n",
            "6/6 [==============================] - 28s 5s/step - loss: 1.4803 - accuracy: 0.5056 - val_loss: 0.9189 - val_accuracy: 0.7529\n",
            "Epoch 4/5\n",
            "6/6 [==============================] - 25s 4s/step - loss: 1.0434 - accuracy: 0.6441 - val_loss: 0.9552 - val_accuracy: 0.7529\n",
            "Epoch 5/5\n",
            "6/6 [==============================] - 28s 5s/step - loss: 0.8776 - accuracy: 0.7288 - val_loss: 0.9821 - val_accuracy: 0.7529\n"
          ],
          "name": "stdout"
        }
      ]
    },
    {
      "cell_type": "markdown",
      "metadata": {
        "id": "xqIjZvhBBJNn"
      },
      "source": [
        "### Review the new learning curves"
      ]
    },
    {
      "cell_type": "code",
      "metadata": {
        "id": "chW103JUItdk",
        "colab": {
          "base_uri": "https://localhost:8080/",
          "height": 513
        },
        "outputId": "0b80541e-d2c2-40ae-d171-62e9d1934444"
      },
      "source": [
        "acc = history_fine.history['accuracy']\n",
        "val_acc = history_fine.history['val_accuracy']\n",
        "\n",
        "loss = history_fine.history['loss']\n",
        "val_loss = history_fine.history['val_loss']\n",
        "\n",
        "plt.figure(figsize=(8, 8))\n",
        "plt.subplot(2, 1, 1)\n",
        "plt.plot(acc, label='Training Accuracy')\n",
        "plt.plot(val_acc, label='Validation Accuracy')\n",
        "plt.legend(loc='lower right')\n",
        "plt.ylabel('Accuracy')\n",
        "plt.ylim([min(plt.ylim()),1])\n",
        "plt.title('Training and Validation Accuracy')\n",
        "\n",
        "plt.subplot(2, 1, 2)\n",
        "plt.plot(loss, label='Training Loss')\n",
        "plt.plot(val_loss, label='Validation Loss')\n",
        "plt.legend(loc='upper right')\n",
        "plt.ylabel('Cross Entropy')\n",
        "plt.ylim([0,1.0])\n",
        "plt.title('Training and Validation Loss')\n",
        "plt.xlabel('epoch')\n",
        "plt.show()"
      ],
      "execution_count": null,
      "outputs": [
        {
          "output_type": "display_data",
          "data": {
            "image/png": "[encoded data removed]",
            "text/plain": [
              "<Figure size 576x576 with 2 Axes>"
            ]
          },
          "metadata": {
            "tags": [],
            "needs_background": "light"
          }
        }
      ]
    },
    {
      "cell_type": "markdown",
      "metadata": {
        "id": "TjdOw_xkqzI4"
      },
      "source": [
        "This is better, but it's not ideal.\n",
        "\n",
        "The validation loss is still higher than the training loss, so there could be some overfitting during training. The overfitting might also be because the new training set is relatively small with less intra-class variance, compared to the original ImageNet dataset used to train MobileNet V2.\n",
        "\n",
        "So this model isn't trained to an accuracy that's production ready, but it works well enough as a demonstration.\n",
        "\n",
        "Let's move on and convert the model to TensorFlow Lite."
      ]
    },
    {
      "cell_type": "markdown",
      "metadata": {
        "id": "kRDabW_u1wnv"
      },
      "source": [
        "## Convert to TFLite"
      ]
    },
    {
      "cell_type": "markdown",
      "metadata": {
        "id": "hNvMl6CM6lG4"
      },
      "source": [
        "Ordinarily, creating a TensorFlow Lite model is just a few lines of code with [`TFLiteConverter`](https://www.tensorflow.org/api_docs/python/tf/lite/TFLiteConverter). For example, this creates a basic (un-quantized) TensorFlow Lite model:"
      ]
    },
    {
      "cell_type": "code",
      "metadata": {
        "id": "srOYhMYfx9XH",
        "colab": {
          "base_uri": "https://localhost:8080/"
        },
        "outputId": "184a2722-19cb-452c-aa20-457b9c5ea58a"
      },
      "source": [
        "converter = tf.lite.TFLiteConverter.from_keras_model(model)\n",
        "tflite_model = converter.convert()\n",
        "\n",
        "with open('mobilenet_v2_1.0_224.tflite', 'wb') as f:\n",
        "  f.write(tflite_model)"
      ],
      "execution_count": null,
      "outputs": [
        {
          "output_type": "stream",
          "text": [
            "WARNING:tensorflow:From /usr/local/lib/python3.6/dist-packages/tensorflow/python/training/tracking/tracking.py:111: Model.state_updates (from tensorflow.python.keras.engine.training) is deprecated and will be removed in a future version.\n",
            "Instructions for updating:\n",
            "This property should not be used in TensorFlow 2.0, as updates are applied automatically.\n",
            "WARNING:tensorflow:From /usr/local/lib/python3.6/dist-packages/tensorflow/python/training/tracking/tracking.py:111: Layer.updates (from tensorflow.python.keras.engine.base_layer) is deprecated and will be removed in a future version.\n",
            "Instructions for updating:\n",
            "This property should not be used in TensorFlow 2.0, as updates are applied automatically.\n",
            "INFO:tensorflow:Assets written to: /tmp/tmplbfhjrmy/assets\n"
          ],
          "name": "stdout"
        }
      ]
    },
    {
      "cell_type": "markdown",
      "metadata": {
        "id": "P0_StAtZwJ5p"
      },
      "source": [
        "However, this `.tflite` file still uses floating-point values for the parameter data, and we need to fully quantize the model to int8 format.\n",
        "\n",
        "To fully quantize the model, we need to perform [post-training quantization](https://www.tensorflow.org/lite/performance/post_training_quantization) with a representative dataset, which requires a few more arguments for the `TFLiteConverter`, and a function that builds a dataset that's representative of the training dataset. \n",
        "\n",
        "So let's convert the model again with post-training quantization:"
      ]
    },
    {
      "cell_type": "code",
      "metadata": {
        "id": "w9ydAmHGHUZl",
        "colab": {
          "base_uri": "https://localhost:8080/"
        },
        "outputId": "5681f702-f393-4210-cb1f-007fa929d6ca"
      },
      "source": [
        "# A generator that provides a representative dataset\n",
        "def representative_data_gen():\n",
        "  dataset_list = tf.data.Dataset.list_files(screws_dir + '/*/*')\n",
        "  for i in range(100):\n",
        "    image = next(iter(dataset_list))\n",
        "    print(image)\n",
        "    image = tf.io.read_file(image)\n",
        "    image = tf.io.decode_jpeg(image, channels=3)\n",
        "    image = tf.image.resize(image, [IMAGE_SIZE, IMAGE_SIZE])\n",
        "    image = tf.cast(image / 255., tf.float32)\n",
        "    image = tf.expand_dims(image, 0)\n",
        "    yield [image]\n",
        "\n",
        "converter = tf.lite.TFLiteConverter.from_keras_model(model)\n",
        "# This enables quantization\n",
        "converter.optimizations = [tf.lite.Optimize.DEFAULT]\n",
        "# This sets the representative dataset for quantization\n",
        "converter.representative_dataset = representative_data_gen\n",
        "# This ensures that if any ops can't be quantized, the converter throws an error\n",
        "converter.target_spec.supported_ops = [tf.lite.OpsSet.TFLITE_BUILTINS_INT8]\n",
        "# For full integer quantization, though supported types defaults to int8 only, we explicitly declare it for clarity.\n",
        "converter.target_spec.supported_types = [tf.int8]\n",
        "# These set the input and output tensors to uint8 (added in r2.3)\n",
        "converter.inference_input_type = tf.uint8\n",
        "converter.inference_output_type = tf.uint8\n",
        "tflite_model = converter.convert()\n",
        "\n",
        "with open('mobilenet_v2_1.0_224_quant.tflite', 'wb') as f:\n",
        "  f.write(tflite_model)"
      ],
      "execution_count": null,
      "outputs": [
        {
          "output_type": "stream",
          "text": [
            "INFO:tensorflow:Assets written to: /tmp/tmp2n0k4vei/assets\n"
          ],
          "name": "stdout"
        },
        {
          "output_type": "stream",
          "text": [
            "INFO:tensorflow:Assets written to: /tmp/tmp2n0k4vei/assets\n"
          ],
          "name": "stderr"
        },
        {
          "output_type": "stream",
          "text": [
            "tf.Tensor(b'/content/screws_dir/good/131.jpg', shape=(), dtype=string)\n",
            "tf.Tensor(b'/content/screws_dir/good/234.jpg', shape=(), dtype=string)\n",
            "tf.Tensor(b'/content/screws_dir/thread_side/010.jpg', shape=(), dtype=string)\n",
            "tf.Tensor(b'/content/screws_dir/good/090.jpg', shape=(), dtype=string)\n",
            "tf.Tensor(b'/content/screws_dir/thread_top/009.jpg', shape=(), dtype=string)\n",
            "tf.Tensor(b'/content/screws_dir/thread_side/009.jpg', shape=(), dtype=string)\n",
            "tf.Tensor(b'/content/screws_dir/thread_side/014.jpg', shape=(), dtype=string)\n",
            "tf.Tensor(b'/content/screws_dir/thread_side/018.jpg', shape=(), dtype=string)\n",
            "tf.Tensor(b'/content/screws_dir/good/272.jpg', shape=(), dtype=string)\n",
            "tf.Tensor(b'/content/screws_dir/good/242.jpg', shape=(), dtype=string)\n",
            "tf.Tensor(b'/content/screws_dir/good/080.jpg', shape=(), dtype=string)\n",
            "tf.Tensor(b'/content/screws_dir/good/195.jpg', shape=(), dtype=string)\n",
            "tf.Tensor(b'/content/screws_dir/good/004.jpg', shape=(), dtype=string)\n",
            "tf.Tensor(b'/content/screws_dir/good/024.jpg', shape=(), dtype=string)\n",
            "tf.Tensor(b'/content/screws_dir/good/209.jpg', shape=(), dtype=string)\n",
            "tf.Tensor(b'/content/screws_dir/scratch_neck/002.jpg', shape=(), dtype=string)\n",
            "tf.Tensor(b'/content/screws_dir/good/119.jpg', shape=(), dtype=string)\n",
            "tf.Tensor(b'/content/screws_dir/good/269.jpg', shape=(), dtype=string)\n",
            "tf.Tensor(b'/content/screws_dir/good/039.jpg', shape=(), dtype=string)\n",
            "tf.Tensor(b'/content/screws_dir/good/132.jpg', shape=(), dtype=string)\n",
            "tf.Tensor(b'/content/screws_dir/good/306.jpg', shape=(), dtype=string)\n",
            "tf.Tensor(b'/content/screws_dir/good/314.jpg', shape=(), dtype=string)\n",
            "tf.Tensor(b'/content/screws_dir/good/032.jpg', shape=(), dtype=string)\n",
            "tf.Tensor(b'/content/screws_dir/good/185.jpg', shape=(), dtype=string)\n",
            "tf.Tensor(b'/content/screws_dir/good/060.jpg', shape=(), dtype=string)\n",
            "tf.Tensor(b'/content/screws_dir/good/227.jpg', shape=(), dtype=string)\n",
            "tf.Tensor(b'/content/screws_dir/good/056.jpg', shape=(), dtype=string)\n",
            "tf.Tensor(b'/content/screws_dir/good/142.jpg', shape=(), dtype=string)\n",
            "tf.Tensor(b'/content/screws_dir/good/181.jpg', shape=(), dtype=string)\n",
            "tf.Tensor(b'/content/screws_dir/good/096.jpg', shape=(), dtype=string)\n",
            "tf.Tensor(b'/content/screws_dir/manipulated_front/010.jpg', shape=(), dtype=string)\n",
            "tf.Tensor(b'/content/screws_dir/good/210.jpg', shape=(), dtype=string)\n",
            "tf.Tensor(b'/content/screws_dir/thread_side/014.jpg', shape=(), dtype=string)\n",
            "tf.Tensor(b'/content/screws_dir/good/290.jpg', shape=(), dtype=string)\n",
            "tf.Tensor(b'/content/screws_dir/good/271.jpg', shape=(), dtype=string)\n",
            "tf.Tensor(b'/content/screws_dir/good/064.jpg', shape=(), dtype=string)\n",
            "tf.Tensor(b'/content/screws_dir/good/042.jpg', shape=(), dtype=string)\n",
            "tf.Tensor(b'/content/screws_dir/scratch_head/021.jpg', shape=(), dtype=string)\n",
            "tf.Tensor(b'/content/screws_dir/good/135.jpg', shape=(), dtype=string)\n",
            "tf.Tensor(b'/content/screws_dir/good/140.jpg', shape=(), dtype=string)\n",
            "tf.Tensor(b'/content/screws_dir/good/317.jpg', shape=(), dtype=string)\n",
            "tf.Tensor(b'/content/screws_dir/good/203.jpg', shape=(), dtype=string)\n",
            "tf.Tensor(b'/content/screws_dir/good/008.jpg', shape=(), dtype=string)\n",
            "tf.Tensor(b'/content/screws_dir/good/074.jpg', shape=(), dtype=string)\n",
            "tf.Tensor(b'/content/screws_dir/good/069.jpg', shape=(), dtype=string)\n",
            "tf.Tensor(b'/content/screws_dir/good/293.jpg', shape=(), dtype=string)\n",
            "tf.Tensor(b'/content/screws_dir/good/143.jpg', shape=(), dtype=string)\n",
            "tf.Tensor(b'/content/screws_dir/good/049.jpg', shape=(), dtype=string)\n",
            "tf.Tensor(b'/content/screws_dir/good/090.jpg', shape=(), dtype=string)\n",
            "tf.Tensor(b'/content/screws_dir/good/218.jpg', shape=(), dtype=string)\n",
            "tf.Tensor(b'/content/screws_dir/manipulated_front/002.jpg', shape=(), dtype=string)\n",
            "tf.Tensor(b'/content/screws_dir/good/262.jpg', shape=(), dtype=string)\n",
            "tf.Tensor(b'/content/screws_dir/good/224.jpg', shape=(), dtype=string)\n",
            "tf.Tensor(b'/content/screws_dir/thread_side/013.jpg', shape=(), dtype=string)\n",
            "tf.Tensor(b'/content/screws_dir/good/081.jpg', shape=(), dtype=string)\n",
            "tf.Tensor(b'/content/screws_dir/good/268.jpg', shape=(), dtype=string)\n",
            "tf.Tensor(b'/content/screws_dir/good/178.jpg', shape=(), dtype=string)\n",
            "tf.Tensor(b'/content/screws_dir/good/112.jpg', shape=(), dtype=string)\n",
            "tf.Tensor(b'/content/screws_dir/good/159.jpg', shape=(), dtype=string)\n",
            "tf.Tensor(b'/content/screws_dir/good/137.jpg', shape=(), dtype=string)\n",
            "tf.Tensor(b'/content/screws_dir/good/151.jpg', shape=(), dtype=string)\n",
            "tf.Tensor(b'/content/screws_dir/manipulated_front/017.jpg', shape=(), dtype=string)\n",
            "tf.Tensor(b'/content/screws_dir/good/182.jpg', shape=(), dtype=string)\n",
            "tf.Tensor(b'/content/screws_dir/good/255.jpg', shape=(), dtype=string)\n",
            "tf.Tensor(b'/content/screws_dir/manipulated_front/018.jpg', shape=(), dtype=string)\n",
            "tf.Tensor(b'/content/screws_dir/good/230.jpg', shape=(), dtype=string)\n",
            "tf.Tensor(b'/content/screws_dir/good/106.jpg', shape=(), dtype=string)\n",
            "tf.Tensor(b'/content/screws_dir/good/199.jpg', shape=(), dtype=string)\n",
            "tf.Tensor(b'/content/screws_dir/manipulated_front/008.jpg', shape=(), dtype=string)\n",
            "tf.Tensor(b'/content/screws_dir/good/097.jpg', shape=(), dtype=string)\n",
            "tf.Tensor(b'/content/screws_dir/good/208.jpg', shape=(), dtype=string)\n",
            "tf.Tensor(b'/content/screws_dir/good/218.jpg', shape=(), dtype=string)\n",
            "tf.Tensor(b'/content/screws_dir/scratch_head/008.jpg', shape=(), dtype=string)\n",
            "tf.Tensor(b'/content/screws_dir/thread_top/001.jpg', shape=(), dtype=string)\n",
            "tf.Tensor(b'/content/screws_dir/thread_top/008.jpg', shape=(), dtype=string)\n",
            "tf.Tensor(b'/content/screws_dir/thread_top/001.jpg', shape=(), dtype=string)\n",
            "tf.Tensor(b'/content/screws_dir/thread_top/003.jpg', shape=(), dtype=string)\n",
            "tf.Tensor(b'/content/screws_dir/good/078.jpg', shape=(), dtype=string)\n",
            "tf.Tensor(b'/content/screws_dir/good/012.jpg', shape=(), dtype=string)\n",
            "tf.Tensor(b'/content/screws_dir/good/227.jpg', shape=(), dtype=string)\n",
            "tf.Tensor(b'/content/screws_dir/thread_side/013.jpg', shape=(), dtype=string)\n",
            "tf.Tensor(b'/content/screws_dir/good/119.jpg', shape=(), dtype=string)\n",
            "tf.Tensor(b'/content/screws_dir/good/297.jpg', shape=(), dtype=string)\n",
            "tf.Tensor(b'/content/screws_dir/good/045.jpg', shape=(), dtype=string)\n",
            "tf.Tensor(b'/content/screws_dir/manipulated_front/013.jpg', shape=(), dtype=string)\n",
            "tf.Tensor(b'/content/screws_dir/good/138.jpg', shape=(), dtype=string)\n",
            "tf.Tensor(b'/content/screws_dir/good/158.jpg', shape=(), dtype=string)\n",
            "tf.Tensor(b'/content/screws_dir/good/189.jpg', shape=(), dtype=string)\n",
            "tf.Tensor(b'/content/screws_dir/good/127.jpg', shape=(), dtype=string)\n",
            "tf.Tensor(b'/content/screws_dir/good/310.jpg', shape=(), dtype=string)\n",
            "tf.Tensor(b'/content/screws_dir/good/174.jpg', shape=(), dtype=string)\n",
            "tf.Tensor(b'/content/screws_dir/thread_side/012.jpg', shape=(), dtype=string)\n",
            "tf.Tensor(b'/content/screws_dir/good/091.jpg', shape=(), dtype=string)\n",
            "tf.Tensor(b'/content/screws_dir/good/274.jpg', shape=(), dtype=string)\n",
            "tf.Tensor(b'/content/screws_dir/good/004.jpg', shape=(), dtype=string)\n",
            "tf.Tensor(b'/content/screws_dir/good/034.jpg', shape=(), dtype=string)\n",
            "tf.Tensor(b'/content/screws_dir/good/237.jpg', shape=(), dtype=string)\n",
            "tf.Tensor(b'/content/screws_dir/manipulated_front/011.jpg', shape=(), dtype=string)\n",
            "tf.Tensor(b'/content/screws_dir/good/212.jpg', shape=(), dtype=string)\n",
            "tf.Tensor(b'/content/screws_dir/scratch_neck/012.jpg', shape=(), dtype=string)\n"
          ],
          "name": "stdout"
        }
      ]
    },
    {
      "cell_type": "markdown",
      "metadata": {
        "id": "RMLYBDe_e849"
      },
      "source": [
        "### Compare the accuracy\n"
      ]
    },
    {
      "cell_type": "markdown",
      "metadata": {
        "id": "SFgbRx_Twd-P"
      },
      "source": [
        "So now we have a fully quantized TensorFlow Lite model. To be sure the conversion went well, let's evaluate both the raw model and the TensorFlow Lite model.\n",
        "\n",
        "First check the accuracy of the raw model:"
      ]
    },
    {
      "cell_type": "code",
      "metadata": {
        "id": "RkQ2IlAWfC5O",
        "colab": {
          "base_uri": "https://localhost:8080/"
        },
        "outputId": "d4decba3-cc55-4675-bbd9-122c64394668"
      },
      "source": [
        "batch_images, batch_labels = next(val_generator)\n",
        "\n",
        "logits = model(batch_images)\n",
        "prediction = np.argmax(logits, axis=1)\n",
        "truth = np.argmax(batch_labels, axis=1)\n",
        "\n",
        "keras_accuracy = tf.keras.metrics.Accuracy()\n",
        "keras_accuracy(prediction, truth)\n",
        "\n",
        "print(\"Raw model accuracy: {:.3%}\".format(keras_accuracy.result()))"
      ],
      "execution_count": null,
      "outputs": [
        {
          "output_type": "stream",
          "text": [
            "Raw model accuracy: 80.952%\n"
          ],
          "name": "stdout"
        }
      ]
    },
    {
      "cell_type": "markdown",
      "metadata": {
        "id": "Hjx3dgZNwmKN"
      },
      "source": [
        "Now let's check the accuracy of the `.tflite` file, using the same dataset.\n",
        "\n",
        "However, there's no convenient API to evaluate the accuracy of a TensorFlow Lite model, so this code runs several inferences and compares the predictions against ground truth:"
      ]
    },
    {
      "cell_type": "code",
      "metadata": {
        "id": "iBs0O7q_wlCN",
        "colab": {
          "base_uri": "https://localhost:8080/"
        },
        "outputId": "1ab2911a-a0fe-4a12-f855-6b040c703ec9"
      },
      "source": [
        "def set_input_tensor(interpreter, input):\n",
        "  input_details = interpreter.get_input_details()[0]\n",
        "  tensor_index = input_details['index']\n",
        "  input_tensor = interpreter.tensor(tensor_index)()[0]\n",
        "  # Inputs for the TFLite model must be uint8, so we quantize our input data.\n",
        "  # NOTE: This step is necessary only because we're receiving input data from\n",
        "  # ImageDataGenerator, which rescaled all image data to float [0,1]. When using\n",
        "  # bitmap inputs, they're already uint8 [0,255] so this can be replaced with:\n",
        "  #   input_tensor[:, :] = input\n",
        "  scale, zero_point = input_details['quantization']\n",
        "  input_tensor[:, :] = np.uint8(input / scale + zero_point)\n",
        "\n",
        "def classify_image(interpreter, input):\n",
        "  set_input_tensor(interpreter, input)\n",
        "  interpreter.invoke()\n",
        "  output_details = interpreter.get_output_details()[0]\n",
        "  output = interpreter.get_tensor(output_details['index'])\n",
        "  # Outputs from the TFLite model are uint8, so we dequantize the results:\n",
        "  scale, zero_point = output_details['quantization']\n",
        "  output = scale * (output - zero_point)\n",
        "  top_1 = np.argmax(output)\n",
        "  return top_1\n",
        "\n",
        "interpreter = tf.lite.Interpreter('mobilenet_v2_1.0_224_quant.tflite')\n",
        "interpreter.allocate_tensors()\n",
        "\n",
        "# Collect all inference predictions in a list\n",
        "batch_prediction = []\n",
        "batch_truth = np.argmax(batch_labels, axis=1)\n",
        "\n",
        "for i in range(len(batch_images)):\n",
        "  prediction = classify_image(interpreter, batch_images[i])\n",
        "  batch_prediction.append(prediction)\n",
        "\n",
        "# Compare all predictions to the ground truth\n",
        "tflite_accuracy = tf.keras.metrics.Accuracy()\n",
        "tflite_accuracy(batch_prediction, batch_truth)\n",
        "print(\"Quant TF Lite accuracy: {:.3%}\".format(tflite_accuracy.result()))\n"
      ],
      "execution_count": null,
      "outputs": [
        {
          "output_type": "stream",
          "text": [
            "Quant TF Lite accuracy: 80.952%\n"
          ],
          "name": "stdout"
        }
      ]
    },
    {
      "cell_type": "markdown",
      "metadata": {
        "id": "WfM4kAPiPg9q"
      },
      "source": [
        "You might see some, but hopefully not very much accuracy drop between the raw model and the TensorFlow Lite model. But again, these results are not suitable for production deployment."
      ]
    },
    {
      "cell_type": "markdown",
      "metadata": {
        "id": "ZmiHICezwXZq"
      },
      "source": [
        "## Compile for the Edge TPU\n"
      ]
    },
    {
      "cell_type": "markdown",
      "metadata": {
        "id": "DhOzAdzF3Dyk"
      },
      "source": [
        "Finally, we're ready to compile the model for the Edge TPU.\n",
        "\n",
        "First download the [Edge TPU Compiler](https://coral.ai/docs/edgetpu/compiler/):"
      ]
    },
    {
      "cell_type": "code",
      "metadata": {
        "id": "p6ZpWgrk21Ad",
        "colab": {
          "base_uri": "https://localhost:8080/"
        },
        "outputId": "48c3edd0-cbaa-4927-8717-a8562a43f367"
      },
      "source": [
        "! curl https://packages.cloud.google.com/apt/doc/apt-key.gpg | sudo apt-key add -\n",
        "\n",
        "! echo \"deb https://packages.cloud.google.com/apt coral-edgetpu-stable main\" | sudo tee /etc/apt/sources.list.d/coral-edgetpu.list\n",
        "\n",
        "! sudo apt-get update\n",
        "\n",
        "! sudo apt-get install edgetpu-compiler\t"
      ],
      "execution_count": null,
      "outputs": [
        {
          "output_type": "stream",
          "text": [
            "  % Total    % Received % Xferd  Average Speed   Time    Time     Time  Current\n",
            "                                 Dload  Upload   Total   Spent    Left  Speed\n",
            "\r  0     0    0     0    0     0      0      0 --:--:-- --:--:-- --:--:--     0\r100  1974  100  1974    0     0  82250      0 --:--:-- --:--:-- --:--:-- 82250\n",
            "OK\n",
            "deb https://packages.cloud.google.com/apt coral-edgetpu-stable main\n",
            "Get:1 http://security.ubuntu.com/ubuntu bionic-security InRelease [88.7 kB]\n",
            "Ign:2 https://developer.download.nvidia.com/compute/cuda/repos/ubuntu1804/x86_64  InRelease\n",
            "Ign:3 https://developer.download.nvidia.com/compute/machine-learning/repos/ubuntu1804/x86_64  InRelease\n",
            "Get:4 http://ppa.launchpad.net/c2d4u.team/c2d4u4.0+/ubuntu bionic InRelease [15.9 kB]\n",
            "Get:5 https://cloud.r-project.org/bin/linux/ubuntu bionic-cran40/ InRelease [3,626 B]\n",
            "Hit:6 https://developer.download.nvidia.com/compute/cuda/repos/ubuntu1804/x86_64  Release\n",
            "Get:7 https://packages.cloud.google.com/apt coral-edgetpu-stable InRelease [6,722 B]\n",
            "Hit:8 https://developer.download.nvidia.com/compute/machine-learning/repos/ubuntu1804/x86_64  Release\n",
            "Hit:9 http://archive.ubuntu.com/ubuntu bionic InRelease\n",
            "Get:10 http://security.ubuntu.com/ubuntu bionic-security/universe amd64 Packages [1,370 kB]\n",
            "Get:11 http://archive.ubuntu.com/ubuntu bionic-updates InRelease [88.7 kB]\n",
            "Get:12 http://ppa.launchpad.net/graphics-drivers/ppa/ubuntu bionic InRelease [21.3 kB]\n",
            "Ign:14 https://packages.cloud.google.com/apt coral-edgetpu-stable/main amd64 Packages\n",
            "Get:15 http://archive.ubuntu.com/ubuntu bionic-backports InRelease [74.6 kB]\n",
            "Get:14 https://packages.cloud.google.com/apt coral-edgetpu-stable/main amd64 Packages [2,172 B]\n",
            "Get:17 http://ppa.launchpad.net/c2d4u.team/c2d4u4.0+/ubuntu bionic/main Sources [1,693 kB]\n",
            "Get:18 http://archive.ubuntu.com/ubuntu bionic-updates/main amd64 Packages [2,243 kB]\n",
            "Get:19 http://archive.ubuntu.com/ubuntu bionic-updates/universe amd64 Packages [2,134 kB]\n",
            "Get:20 http://ppa.launchpad.net/c2d4u.team/c2d4u4.0+/ubuntu bionic/main amd64 Packages [867 kB]\n",
            "Get:21 http://ppa.launchpad.net/graphics-drivers/ppa/ubuntu bionic/main amd64 Packages [46.5 kB]\n",
            "Fetched 8,655 kB in 3s (3,117 kB/s)\n",
            "Reading package lists... Done\n",
            "Reading package lists... Done\n",
            "Building dependency tree       \n",
            "Reading state information... Done\n",
            "The following NEW packages will be installed:\n",
            "  edgetpu-compiler\n",
            "0 upgraded, 1 newly installed, 0 to remove and 15 not upgraded.\n",
            "Need to get 7,865 kB of archives.\n",
            "After this operation, 31.2 MB of additional disk space will be used.\n",
            "Get:1 https://packages.cloud.google.com/apt coral-edgetpu-stable/main amd64 edgetpu-compiler amd64 15.0 [7,865 kB]\n",
            "Fetched 7,865 kB in 0s (17.9 MB/s)\n",
            "debconf: unable to initialize frontend: Dialog\n",
            "debconf: (No usable dialog-like program is installed, so the dialog based frontend cannot be used. at /usr/share/perl5/Debconf/FrontEnd/Dialog.pm line 76, <> line 1.)\n",
            "debconf: falling back to frontend: Readline\n",
            "debconf: unable to initialize frontend: Readline\n",
            "debconf: (This frontend requires a controlling tty.)\n",
            "debconf: falling back to frontend: Teletype\n",
            "dpkg-preconfigure: unable to re-open stdin: \n",
            "Selecting previously unselected package edgetpu-compiler.\n",
            "(Reading database ... 144865 files and directories currently installed.)\n",
            "Preparing to unpack .../edgetpu-compiler_15.0_amd64.deb ...\n",
            "Unpacking edgetpu-compiler (15.0) ...\n",
            "Setting up edgetpu-compiler (15.0) ...\n",
            "Processing triggers for libc-bin (2.27-3ubuntu1.2) ...\n",
            "/sbin/ldconfig.real: /usr/local/lib/python3.6/dist-packages/ideep4py/lib/libmkldnn.so.0 is not a symbolic link\n",
            "\n"
          ],
          "name": "stdout"
        }
      ]
    },
    {
      "cell_type": "markdown",
      "metadata": {
        "id": "mtPcYiER3Ymp"
      },
      "source": [
        "Then compile the model:"
      ]
    },
    {
      "cell_type": "code",
      "metadata": {
        "id": "joxrIB0I3cdi",
        "colab": {
          "base_uri": "https://localhost:8080/"
        },
        "outputId": "9c392a97-9422-4a8b-c67a-127027ebfe2e"
      },
      "source": [
        "! edgetpu_compiler mobilenet_v2_1.0_224_quant.tflite"
      ],
      "execution_count": null,
      "outputs": [
        {
          "output_type": "stream",
          "text": [
            "Edge TPU Compiler version 15.0.340273435\n",
            "\n",
            "Model compiled successfully in 903 ms.\n",
            "\n",
            "Input model: mobilenet_v2_1.0_224_quant.tflite\n",
            "Input size: 3.08MiB\n",
            "Output model: mobilenet_v2_1.0_224_quant_edgetpu.tflite\n",
            "Output size: 3.12MiB\n",
            "On-chip memory used for caching model parameters: 3.33MiB\n",
            "On-chip memory remaining for caching model parameters: 4.48MiB\n",
            "Off-chip memory used for streaming uncached model parameters: 0.00B\n",
            "Number of Edge TPU subgraphs: 1\n",
            "Total number of operations: 73\n",
            "Operation log: mobilenet_v2_1.0_224_quant_edgetpu.log\n",
            "See the operation log file for individual operation details.\n"
          ],
          "name": "stdout"
        }
      ]
    },
    {
      "cell_type": "markdown",
      "metadata": {
        "id": "7R8JMQc1MMm5"
      },
      "source": [
        "That's it.\n",
        "\n",
        "The compiled model uses the same filename but with \"_edgetpu\" appended at the end."
      ]
    },
    {
      "cell_type": "markdown",
      "metadata": {
        "id": "Oi9-Voc8A7VK"
      },
      "source": [
        "## Download the model"
      ]
    },
    {
      "cell_type": "markdown",
      "metadata": {
        "id": "XiugMm-jBbWl"
      },
      "source": [
        "You can download the converted model and labels file from Colab like this: "
      ]
    },
    {
      "cell_type": "code",
      "metadata": {
        "id": "x47uW_lI1DoV",
        "colab": {
          "base_uri": "https://localhost:8080/",
          "height": 17
        },
        "outputId": "d64d3325-7b6c-457c-eb71-f49413e2ce44"
      },
      "source": [
        "from google.colab import files\n",
        "\n",
        "files.download('mobilenet_v2_1.0_224_quant_edgetpu.tflite')\n",
        "files.download('screw_labels.txt')"
      ],
      "execution_count": null,
      "outputs": [
        {
          "output_type": "display_data",
          "data": {
            "application/javascript": [
              "\n",
              "    async function download(id, filename, size) {\n",
              "      if (!google.colab.kernel.accessAllowed) {\n",
              "        return;\n",
              "      }\n",
              "      const div = document.createElement('div');\n",
              "      const label = document.createElement('label');\n",
              "      label.textContent = `Downloading \"${filename}\": `;\n",
              "      div.appendChild(label);\n",
              "      const progress = document.createElement('progress');\n",
              "      progress.max = size;\n",
              "      div.appendChild(progress);\n",
              "      document.body.appendChild(div);\n",
              "\n",
              "      const buffers = [];\n",
              "      let downloaded = 0;\n",
              "\n",
              "      const channel = await google.colab.kernel.comms.open(id);\n",
              "      // Send a message to notify the kernel that we're ready.\n",
              "      channel.send({})\n",
              "\n",
              "      for await (const message of channel.messages) {\n",
              "        // Send a message to notify the kernel that we're ready.\n",
              "        channel.send({})\n",
              "        if (message.buffers) {\n",
              "          for (const buffer of message.buffers) {\n",
              "            buffers.push(buffer);\n",
              "            downloaded += buffer.byteLength;\n",
              "            progress.value = downloaded;\n",
              "          }\n",
              "        }\n",
              "      }\n",
              "      const blob = new Blob(buffers, {type: 'application/binary'});\n",
              "      const a = document.createElement('a');\n",
              "      a.href = window.URL.createObjectURL(blob);\n",
              "      a.download = filename;\n",
              "      div.appendChild(a);\n",
              "      a.click();\n",
              "      div.remove();\n",
              "    }\n",
              "  "
            ],
            "text/plain": [
              "<IPython.core.display.Javascript object>"
            ]
          },
          "metadata": {
            "tags": []
          }
        },
        {
          "output_type": "display_data",
          "data": {
            "application/javascript": [
              "download(\"download_cd69384c-20a7-4163-80fd-c08be8ffc5f0\", \"mobilenet_v2_1.0_224_quant_edgetpu.tflite\", 3273264)"
            ],
            "text/plain": [
              "<IPython.core.display.Javascript object>"
            ]
          },
          "metadata": {
            "tags": []
          }
        },
        {
          "output_type": "display_data",
          "data": {
            "application/javascript": [
              "\n",
              "    async function download(id, filename, size) {\n",
              "      if (!google.colab.kernel.accessAllowed) {\n",
              "        return;\n",
              "      }\n",
              "      const div = document.createElement('div');\n",
              "      const label = document.createElement('label');\n",
              "      label.textContent = `Downloading \"${filename}\": `;\n",
              "      div.appendChild(label);\n",
              "      const progress = document.createElement('progress');\n",
              "      progress.max = size;\n",
              "      div.appendChild(progress);\n",
              "      document.body.appendChild(div);\n",
              "\n",
              "      const buffers = [];\n",
              "      let downloaded = 0;\n",
              "\n",
              "      const channel = await google.colab.kernel.comms.open(id);\n",
              "      // Send a message to notify the kernel that we're ready.\n",
              "      channel.send({})\n",
              "\n",
              "      for await (const message of channel.messages) {\n",
              "        // Send a message to notify the kernel that we're ready.\n",
              "        channel.send({})\n",
              "        if (message.buffers) {\n",
              "          for (const buffer of message.buffers) {\n",
              "            buffers.push(buffer);\n",
              "            downloaded += buffer.byteLength;\n",
              "            progress.value = downloaded;\n",
              "          }\n",
              "        }\n",
              "      }\n",
              "      const blob = new Blob(buffers, {type: 'application/binary'});\n",
              "      const a = document.createElement('a');\n",
              "      a.href = window.URL.createObjectURL(blob);\n",
              "      a.download = filename;\n",
              "      div.appendChild(a);\n",
              "      a.click();\n",
              "      div.remove();\n",
              "    }\n",
              "  "
            ],
            "text/plain": [
              "<IPython.core.display.Javascript object>"
            ]
          },
          "metadata": {
            "tags": []
          }
        },
        {
          "output_type": "display_data",
          "data": {
            "application/javascript": [
              "download(\"download_bd0d7b68-d186-4492-8173-e3ed9ae71394\", \"screw_labels.txt\", 71)"
            ],
            "text/plain": [
              "<IPython.core.display.Javascript object>"
            ]
          },
          "metadata": {
            "tags": []
          }
        }
      ]
    },
    {
      "cell_type": "markdown",
      "metadata": {
        "id": "_qOCP3mXXvsm"
      },
      "source": [
        "If you get a \"Failed to fetch\" error here, it's probably because the files weren't done saving. So just wait a moment and try again.\n",
        "\n",
        "Also look out for a browser popup that might need approval to download the files."
      ]
    },
    {
      "cell_type": "markdown",
      "metadata": {
        "id": "_TZTwG7nhm0C"
      },
      "source": [
        "## Run the model on the Edge TPU\n",
        "\n",
        "\n"
      ]
    },
    {
      "cell_type": "markdown",
      "metadata": {
        "id": "RwywT4ZpQjLf"
      },
      "source": [
        "You can now run the model on your Coral device with acceleration on the Edge TPU.\n",
        "\n",
        "To get started, try using your `.tflite` model with [this code for image classification with the TensorFlow Lite API](https://github.com/google-coral/tflite/tree/master/python/examples/classification). \n",
        "\n",
        "Just follow the instructions on that page to set up your device, copy the `mobilenet_v2_1.0_224_quant_edgetpu.tflite` and `flower_labels.txt` files to your Coral Dev Board or device with a Coral Accelerator, and pass it a flower photo like this:\n",
        "\n",
        "```\n",
        "python3 classify_image.py \\\n",
        "  --model mobilenet_v2_1.0_224_quant_edgetpu.tflite \\\n",
        "  --labels flower_labels.txt \\\n",
        "  --input flower.jpg\n",
        "```\n",
        "\n",
        "Check out more examples for running inference at [coral.ai/examples](https://coral.ai/examples/#code-examples/)."
      ]
    }
  ]
}